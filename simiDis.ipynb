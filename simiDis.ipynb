{
 "cells": [
  {
   "cell_type": "code",
   "execution_count": 76,
   "metadata": {},
   "outputs": [],
   "source": [
    "from math import*\n"
   ]
  },
  {
   "cell_type": "code",
   "execution_count": 77,
   "metadata": {},
   "outputs": [
    {
     "name": "stdout",
     "output_type": "stream",
     "text": [
      "9.746794344808963\n"
     ]
    }
   ],
   "source": [
    "\n",
    "def ed(x,y):\n",
    "    sum =0\n",
    "    for i in range(0,len(x)):\n",
    "        sum +=pow(x[i]-y[i],2)    \n",
    "    return sqrt(sum)\n",
    "\n",
    "x=ed([0,3,4,5],[7,6,3,-1])\n",
    "print(x)"
   ]
  },
  {
   "cell_type": "code",
   "execution_count": 24,
   "metadata": {},
   "outputs": [],
   "source": [
    "from decimal import Decimal"
   ]
  },
  {
   "cell_type": "code",
   "execution_count": 78,
   "metadata": {},
   "outputs": [
    {
     "name": "stdout",
     "output_type": "stream",
     "text": [
      "10\n"
     ]
    }
   ],
   "source": [
    "\n",
    "def MH(x,y):\n",
    "    sum =0\n",
    "    for i in range(0,len(x)):\n",
    "        sum +=abs(x[i]-y[i])\n",
    "    return sum\n",
    "\n",
    "x=MH([10,20,10],[10,20,20])\n",
    "print(x)"
   ]
  },
  {
   "cell_type": "code",
   "execution_count": 79,
   "metadata": {},
   "outputs": [],
   "source": [
    "def MD(x,y,p):\n",
    "    sum =0\n",
    "    for i in range(0,len(x)):\n",
    "        sum +=pow(abs(x[i]-y[i]),p) \n",
    "    root_value = 1/float(p)\n",
    "    return round(pow(sum,root_value),3)\n"
   ]
  },
  {
   "cell_type": "code",
   "execution_count": 80,
   "metadata": {},
   "outputs": [
    {
     "name": "stdout",
     "output_type": "stream",
     "text": [
      "8.373\n"
     ]
    }
   ],
   "source": [
    "print (MD([0,3,4,5],[7,6,3,-1],3))"
   ]
  },
  {
   "cell_type": "code",
   "execution_count": 81,
   "metadata": {},
   "outputs": [],
   "source": [
    "from math import*"
   ]
  },
  {
   "cell_type": "code",
   "execution_count": 82,
   "metadata": {},
   "outputs": [
    {
     "ename": "TypeError",
     "evalue": "'int' object is not callable",
     "output_type": "error",
     "traceback": [
      "\u001b[1;31m---------------------------------------------------------------------------\u001b[0m",
      "\u001b[1;31mTypeError\u001b[0m                                 Traceback (most recent call last)",
      "Cell \u001b[1;32mIn[82], line 29\u001b[0m\n\u001b[0;32m     26\u001b[0m     denominator \u001b[39m=\u001b[39m square_rooted(x)\u001b[39m*\u001b[39msquare_rooted(y)\n\u001b[0;32m     27\u001b[0m     \u001b[39mreturn\u001b[39;00m \u001b[39mround\u001b[39m(numerator\u001b[39m/\u001b[39m\u001b[39mfloat\u001b[39m(denominator),\u001b[39m3\u001b[39m)\n\u001b[1;32m---> 29\u001b[0m \u001b[39mprint\u001b[39m(cosine_similarity1([\u001b[39m3\u001b[39;49m, \u001b[39m45\u001b[39;49m, \u001b[39m7\u001b[39;49m, \u001b[39m2\u001b[39;49m], [\u001b[39m2\u001b[39;49m, \u001b[39m54\u001b[39;49m, \u001b[39m13\u001b[39;49m, \u001b[39m15\u001b[39;49m]))\n",
      "Cell \u001b[1;32mIn[82], line 25\u001b[0m, in \u001b[0;36mcosine_similarity1\u001b[1;34m(x, y)\u001b[0m\n\u001b[0;32m     24\u001b[0m \u001b[39mdef\u001b[39;00m \u001b[39mcosine_similarity1\u001b[39m(x,y):\n\u001b[1;32m---> 25\u001b[0m     numerator \u001b[39m=\u001b[39m \u001b[39msum\u001b[39;49m(a\u001b[39m*\u001b[39;49mb \u001b[39mfor\u001b[39;49;00m a,b \u001b[39min\u001b[39;49;00m \u001b[39mzip\u001b[39;49m(x,y))\n\u001b[0;32m     26\u001b[0m     denominator \u001b[39m=\u001b[39m square_rooted(x)\u001b[39m*\u001b[39msquare_rooted(y)\n\u001b[0;32m     27\u001b[0m     \u001b[39mreturn\u001b[39;00m \u001b[39mround\u001b[39m(numerator\u001b[39m/\u001b[39m\u001b[39mfloat\u001b[39m(denominator),\u001b[39m3\u001b[39m)\n",
      "\u001b[1;31mTypeError\u001b[0m: 'int' object is not callable"
     ]
    }
   ],
   "source": [
    "# def cosine_similarity(x,y):\n",
    "#     xsum =0\n",
    "#     ysum =0\n",
    "#     sumSqrx =0\n",
    "#     sumSqry =0\n",
    "#     for i in range(0,len(x)):\n",
    "#         xsum +=x[i]\n",
    "#         ysum +=y[i]\n",
    "#         sumSqrx+=x[i]*x[i]\n",
    "#         sumSqry+=y[i]*y[i]\n",
    "\n",
    "#     sqrtX = sqrt(sumSqrx)\n",
    "#     sqrty = sqrt(sumSqry)\n",
    "#     numerator = xsum*ysum\n",
    "#     dinominator =float(sqrtX*sqrty)\n",
    "#     print(\"numerator\",numerator)\n",
    "#     print(\"dinominator\",dinominator)\n",
    "#     return round(float(numerator)/float(dinominator),3)\n",
    "\n",
    "\n",
    "\n",
    "def square_rooted(x):\n",
    " \n",
    "    return round(sqrt(sum([a*a for a in x])),3)\n",
    " \n",
    "def cosine_similarity1(x,y):\n",
    "    numerator = sum(a*b for a,b in zip(x,y))\n",
    "    denominator = square_rooted(x)*square_rooted(y)\n",
    "    return round(numerator/float(denominator),3)\n",
    "\n",
    "print(cosine_similarity1([3, 45, 7, 2], [2, 54, 13, 15]))\n"
   ]
  },
  {
   "cell_type": "code",
   "execution_count": 75,
   "metadata": {},
   "outputs": [
    {
     "ename": "ModuleNotFoundError",
     "evalue": "No module named '__builtins__'",
     "output_type": "error",
     "traceback": [
      "\u001b[1;31m---------------------------------------------------------------------------\u001b[0m",
      "\u001b[1;31mModuleNotFoundError\u001b[0m                       Traceback (most recent call last)",
      "Cell \u001b[1;32mIn[75], line 2\u001b[0m\n\u001b[0;32m      1\u001b[0m \u001b[39mfrom\u001b[39;00m \u001b[39mmath\u001b[39;00m \u001b[39mimport\u001b[39;00m sqrt\n\u001b[1;32m----> 2\u001b[0m \u001b[39mimport\u001b[39;00m \u001b[39m__builtins__\u001b[39;00m\n\u001b[0;32m      4\u001b[0m \u001b[39mdef\u001b[39;00m \u001b[39mcosine_similarity2\u001b[39m(x, y):\n\u001b[0;32m      5\u001b[0m \u001b[39m    \u001b[39m\u001b[39m\"\"\"\u001b[39;00m\n\u001b[0;32m      6\u001b[0m \u001b[39m    Calculate the cosine similarity between two lists of numbers.\u001b[39;00m\n\u001b[0;32m      7\u001b[0m \u001b[39m    \u001b[39;00m\n\u001b[1;32m   (...)\u001b[0m\n\u001b[0;32m     13\u001b[0m \u001b[39m    float: cosine similarity between x and y\u001b[39;00m\n\u001b[0;32m     14\u001b[0m \u001b[39m    \"\"\"\u001b[39;00m\n",
      "\u001b[1;31mModuleNotFoundError\u001b[0m: No module named '__builtins__'"
     ]
    }
   ],
   "source": [
    "from math import sqrt\n",
    "\n",
    "def cosine_similarity(x, y):\n",
    "    \"\"\"\n",
    "    Calculate the cosine similarity between two lists of numbers.\n",
    "    \n",
    "    Parameters:\n",
    "    x (list): list of numbers\n",
    "    y (list): list of numbers\n",
    "\n",
    "    Returns:\n",
    "    float: cosine similarity between x and y\n",
    "    \"\"\"\n",
    "    # Check that the lists are of the same length\n",
    "    if len(x) != len(y):\n",
    "        raise ValueError(\"Lists must be of the same length\")\n",
    "\n",
    "    # Calculate the numerator of the cosine similarity equation\n",
    "    numerator = sum(a*b for a,b in zip(x,y))\n",
    "\n",
    "    # Calculate the denominator of the cosine similarity equation\n",
    "    denominator = sqrt(sum(a*a for a in x)) * sqrt(sum(b*b for b in y))\n",
    "\n",
    "    # Return 0 if the denominator is 0\n",
    "    if denominator == 0:\n",
    "        return 0\n",
    "\n",
    "    # Return the cosine similarity\n",
    "    return numerator / denominator"
   ]
  },
  {
   "cell_type": "code",
   "execution_count": 72,
   "metadata": {},
   "outputs": [
    {
     "ename": "TypeError",
     "evalue": "'int' object is not callable",
     "output_type": "error",
     "traceback": [
      "\u001b[1;31m---------------------------------------------------------------------------\u001b[0m",
      "\u001b[1;31mTypeError\u001b[0m                                 Traceback (most recent call last)",
      "Cell \u001b[1;32mIn[72], line 1\u001b[0m\n\u001b[1;32m----> 1\u001b[0m \u001b[39mprint\u001b[39m(cosine_similarity2([\u001b[39m3\u001b[39;49m, \u001b[39m45\u001b[39;49m, \u001b[39m7\u001b[39;49m, \u001b[39m2\u001b[39;49m], [\u001b[39m2\u001b[39;49m, \u001b[39m54\u001b[39;49m, \u001b[39m13\u001b[39;49m, \u001b[39m15\u001b[39;49m]))\n",
      "Cell \u001b[1;32mIn[68], line 19\u001b[0m, in \u001b[0;36mcosine_similarity2\u001b[1;34m(x, y)\u001b[0m\n\u001b[0;32m     16\u001b[0m     \u001b[39mraise\u001b[39;00m \u001b[39mValueError\u001b[39;00m(\u001b[39m\"\u001b[39m\u001b[39mLists must be of the same length\u001b[39m\u001b[39m\"\u001b[39m)\n\u001b[0;32m     18\u001b[0m \u001b[39m# Calculate the numerator of the cosine similarity equation\u001b[39;00m\n\u001b[1;32m---> 19\u001b[0m numerator \u001b[39m=\u001b[39m \u001b[39msum\u001b[39;49m(a\u001b[39m*\u001b[39;49mb \u001b[39mfor\u001b[39;49;00m a,b \u001b[39min\u001b[39;49;00m \u001b[39mzip\u001b[39;49m(x,y))\n\u001b[0;32m     21\u001b[0m \u001b[39m# Calculate the denominator of the cosine similarity equation\u001b[39;00m\n\u001b[0;32m     22\u001b[0m denominator \u001b[39m=\u001b[39m sqrt(\u001b[39msum\u001b[39m(a\u001b[39m*\u001b[39ma \u001b[39mfor\u001b[39;00m a \u001b[39min\u001b[39;00m x)) \u001b[39m*\u001b[39m sqrt(\u001b[39msum\u001b[39m(b\u001b[39m*\u001b[39mb \u001b[39mfor\u001b[39;00m b \u001b[39min\u001b[39;00m y))\n",
      "\u001b[1;31mTypeError\u001b[0m: 'int' object is not callable"
     ]
    }
   ],
   "source": [
    "print(cosine_similarity2([3, 45, 7, 2], [2, 54, 13, 15]))"
   ]
  },
  {
   "cell_type": "code",
   "execution_count": 84,
   "metadata": {},
   "outputs": [
    {
     "ename": "TypeError",
     "evalue": "'int' object is not callable",
     "output_type": "error",
     "traceback": [
      "\u001b[1;31m---------------------------------------------------------------------------\u001b[0m",
      "\u001b[1;31mTypeError\u001b[0m                                 Traceback (most recent call last)",
      "Cell \u001b[1;32mIn[84], line 6\u001b[0m\n\u001b[0;32m      3\u001b[0m \u001b[39mdef\u001b[39;00m \u001b[39meuclidean_distance1\u001b[39m(x,y):\n\u001b[0;32m      5\u001b[0m     \u001b[39mreturn\u001b[39;00m sqrt(\u001b[39msum\u001b[39m(\u001b[39mpow\u001b[39m(a\u001b[39m-\u001b[39mb,\u001b[39m2\u001b[39m) \u001b[39mfor\u001b[39;00m a, b \u001b[39min\u001b[39;00m \u001b[39mzip\u001b[39m(x, y)))\n\u001b[1;32m----> 6\u001b[0m \u001b[39mprint\u001b[39m(euclidean_distance1([\u001b[39m0\u001b[39;49m,\u001b[39m3\u001b[39;49m,\u001b[39m4\u001b[39;49m,\u001b[39m5\u001b[39;49m],[\u001b[39m7\u001b[39;49m,\u001b[39m6\u001b[39;49m,\u001b[39m3\u001b[39;49m,\u001b[39m-\u001b[39;49m\u001b[39m1\u001b[39;49m]))\n",
      "Cell \u001b[1;32mIn[84], line 5\u001b[0m, in \u001b[0;36meuclidean_distance1\u001b[1;34m(x, y)\u001b[0m\n\u001b[0;32m      3\u001b[0m \u001b[39mdef\u001b[39;00m \u001b[39meuclidean_distance1\u001b[39m(x,y):\n\u001b[1;32m----> 5\u001b[0m     \u001b[39mreturn\u001b[39;00m sqrt(\u001b[39msum\u001b[39;49m(\u001b[39mpow\u001b[39;49m(a\u001b[39m-\u001b[39;49mb,\u001b[39m2\u001b[39;49m) \u001b[39mfor\u001b[39;49;00m a, b \u001b[39min\u001b[39;49;00m \u001b[39mzip\u001b[39;49m(x, y)))\n",
      "\u001b[1;31mTypeError\u001b[0m: 'int' object is not callable"
     ]
    }
   ],
   "source": [
    "from math import*\n",
    " \n",
    "def euclidean_distance1(x,y):\n",
    " \n",
    "    return sqrt(sum(pow(a-b,2) for a, b in zip(x, y)))\n",
    "print(euclidean_distance1([0,3,4,5],[7,6,3,-1]))"
   ]
  },
  {
   "cell_type": "code",
   "execution_count": 83,
   "metadata": {},
   "outputs": [
    {
     "ename": "TypeError",
     "evalue": "'int' object is not callable",
     "output_type": "error",
     "traceback": [
      "\u001b[1;31m---------------------------------------------------------------------------\u001b[0m",
      "\u001b[1;31mTypeError\u001b[0m                                 Traceback (most recent call last)",
      "Cell \u001b[1;32mIn[83], line 11\u001b[0m\n\u001b[0;32m      8\u001b[0m     denominator \u001b[39m=\u001b[39m square_rooted(x)\u001b[39m*\u001b[39msquare_rooted(y)\n\u001b[0;32m      9\u001b[0m     \u001b[39mreturn\u001b[39;00m \u001b[39mround\u001b[39m(numerator\u001b[39m/\u001b[39m\u001b[39mfloat\u001b[39m(denominator),\u001b[39m3\u001b[39m)\n\u001b[1;32m---> 11\u001b[0m \u001b[39mprint\u001b[39m(cosine_similarity1([\u001b[39m3\u001b[39;49m, \u001b[39m45\u001b[39;49m, \u001b[39m7\u001b[39;49m, \u001b[39m2\u001b[39;49m], [\u001b[39m2\u001b[39;49m, \u001b[39m54\u001b[39;49m, \u001b[39m13\u001b[39;49m, \u001b[39m15\u001b[39;49m]))\n",
      "Cell \u001b[1;32mIn[83], line 7\u001b[0m, in \u001b[0;36mcosine_similarity1\u001b[1;34m(x, y)\u001b[0m\n\u001b[0;32m      6\u001b[0m \u001b[39mdef\u001b[39;00m \u001b[39mcosine_similarity1\u001b[39m(x,y):\n\u001b[1;32m----> 7\u001b[0m     numerator \u001b[39m=\u001b[39m \u001b[39msum\u001b[39;49m(a\u001b[39m*\u001b[39;49mb \u001b[39mfor\u001b[39;49;00m a,b \u001b[39min\u001b[39;49;00m \u001b[39mzip\u001b[39;49m(x,y))\n\u001b[0;32m      8\u001b[0m     denominator \u001b[39m=\u001b[39m square_rooted(x)\u001b[39m*\u001b[39msquare_rooted(y)\n\u001b[0;32m      9\u001b[0m     \u001b[39mreturn\u001b[39;00m \u001b[39mround\u001b[39m(numerator\u001b[39m/\u001b[39m\u001b[39mfloat\u001b[39m(denominator),\u001b[39m3\u001b[39m)\n",
      "\u001b[1;31mTypeError\u001b[0m: 'int' object is not callable"
     ]
    }
   ],
   "source": [
    "import math\n",
    "\n",
    "def square_rooted(x):\n",
    "    return round(math.sqrt(sum([a*a for a in x])),3)\n",
    "\n",
    "def cosine_similarity1(x,y):\n",
    "    numerator = sum(a*b for a,b in zip(x,y))\n",
    "    denominator = square_rooted(x)*square_rooted(y)\n",
    "    return round(numerator/float(denominator),3)\n",
    "\n",
    "print(cosine_similarity1([3, 45, 7, 2], [2, 54, 13, 15]))"
   ]
  }
 ],
 "metadata": {
  "kernelspec": {
   "display_name": "Python 3",
   "language": "python",
   "name": "python3"
  },
  "language_info": {
   "codemirror_mode": {
    "name": "ipython",
    "version": 3
   },
   "file_extension": ".py",
   "mimetype": "text/x-python",
   "name": "python",
   "nbconvert_exporter": "python",
   "pygments_lexer": "ipython3",
   "version": "3.9.5 (tags/v3.9.5:0a7dcbd, May  3 2021, 17:27:52) [MSC v.1928 64 bit (AMD64)]"
  },
  "orig_nbformat": 4,
  "vscode": {
   "interpreter": {
    "hash": "81794d4967e6c3204c66dcd87b604927b115b27c00565d3d43f05ba2f3a2cb0d"
   }
  }
 },
 "nbformat": 4,
 "nbformat_minor": 2
}
